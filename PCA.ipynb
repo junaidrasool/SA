{
  "nbformat": 4,
  "nbformat_minor": 0,
  "metadata": {
    "colab": {
      "name": "Untitled3.ipynb",
      "provenance": [],
      "authorship_tag": "ABX9TyOx560i06NXsk1ToNh9Drf5",
      "include_colab_link": true
    },
    "kernelspec": {
      "name": "python3",
      "display_name": "Python 3"
    }
  },
  "cells": [
    {
      "cell_type": "markdown",
      "metadata": {
        "id": "view-in-github",
        "colab_type": "text"
      },
      "source": [
        "<a href=\"https://colab.research.google.com/github/junaidrasool/SA/blob/main/PCA.ipynb\" target=\"_parent\"><img src=\"https://colab.research.google.com/assets/colab-badge.svg\" alt=\"Open In Colab\"/></a>"
      ]
    },
    {
      "cell_type": "code",
      "metadata": {
        "id": "9gO-gS_Tf3ir"
      },
      "source": [
        "df_new=df.drop(['src service', 'dst service'], axis=1)\n",
        "df_new\n",
        "features = df_new.columns\n",
        "\n",
        "from sklearn.preprocessing import StandardScaler\n",
        "\n",
        "# Separating out the features\n",
        "x = df.loc[:, features].values\n",
        "# Separating out the target\n",
        "#y = df.loc[:,['target']].values\n",
        "# Standardizing the features\n",
        "x = StandardScaler().fit_transform(x)\n",
        "\n",
        "x.shape\n",
        "\n",
        "# to check the mean and std dev\n",
        "\n",
        "np.mean(x),np.std(x)\n",
        "\n",
        "feat_cols = ['feature'+str(i) for i in range(x.shape[1])]\n",
        "\n",
        "normalised_df = pd.DataFrame(x,columns=feat_cols)\n",
        "\n",
        "normalised_df.tail()\n",
        "\n",
        "from sklearn.decomposition import PCA\n",
        "pca_df = PCA(n_components=6)\n",
        "principalComponents_df = pca_df.fit_transform(x)\n",
        "\n",
        "principal_df = pd.DataFrame(data = principalComponents_df, columns = ['principal component 1', 'principal component 2','principal component 3', 'principal component 4','principal component 5', 'principal component 6'])\n",
        "\n",
        "principal_df\n",
        "\n",
        "principal_df.to_csv('PCA.csv')"
      ],
      "execution_count": null,
      "outputs": []
    }
  ]
}