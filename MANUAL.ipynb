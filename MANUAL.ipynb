{
  "nbformat": 4,
  "nbformat_minor": 0,
  "metadata": {
    "colab": {
      "name": "MANUAL.ipynb",
      "provenance": [],
      "authorship_tag": "ABX9TyOeW0p3UUkmJxGHI7GhrIuI",
      "include_colab_link": true
    },
    "kernelspec": {
      "name": "python3",
      "display_name": "Python 3"
    }
  },
  "cells": [
    {
      "cell_type": "markdown",
      "metadata": {
        "id": "view-in-github",
        "colab_type": "text"
      },
      "source": [
        "<a href=\"https://colab.research.google.com/github/junaidrasool/SA/blob/main/MANUAL.ipynb\" target=\"_parent\"><img src=\"https://colab.research.google.com/assets/colab-badge.svg\" alt=\"Open In Colab\"/></a>"
      ]
    },
    {
      "cell_type": "code",
      "metadata": {
        "id": "U8gVFN4DCSvc"
      },
      "source": [
        "import pandas as pd\n",
        "import operator\n",
        "from sklearn.model_selection import train_test_split\n",
        "import random\n",
        "import numpy as np\n",
        "\n",
        "filename = \"/Users/junaidrasool/Desktop/comp90073_2/A2_1/ENCODED/train1_encoded.csv\"\n",
        "file = open(filename)\n",
        "df = pd.read_csv(file,index_col=0)\n",
        "df\n",
        "\n",
        "df_new=df.drop(['src service', 'dst service'], axis=1)\n",
        "\n",
        "df_new.to_csv('manual_train1.csv')"
      ],
      "execution_count": null,
      "outputs": []
    }
  ]
}