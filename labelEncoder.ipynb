{
  "nbformat": 4,
  "nbformat_minor": 0,
  "metadata": {
    "colab": {
      "name": "labelEncoder.ipynb",
      "provenance": [],
      "collapsed_sections": [],
      "authorship_tag": "ABX9TyPfUEn4det7qETwVMx7+Yh2",
      "include_colab_link": true
    },
    "kernelspec": {
      "name": "python3",
      "display_name": "Python 3"
    }
  },
  "cells": [
    {
      "cell_type": "markdown",
      "metadata": {
        "id": "view-in-github",
        "colab_type": "text"
      },
      "source": [
        "<a href=\"https://colab.research.google.com/github/junaidrasool/SA/blob/main/labelEncoder.ipynb\" target=\"_parent\"><img src=\"https://colab.research.google.com/assets/colab-badge.svg\" alt=\"Open In Colab\"/></a>"
      ]
    },
    {
      "cell_type": "code",
      "metadata": {
        "id": "4uhFVQKRo_ct"
      },
      "source": [
        "\n",
        "import pandas as pd\n",
        "import operator\n",
        "from sklearn.model_selection import train_test_split\n",
        "import random\n",
        "filename = \"/Users/junaidrasool/Desktop/comp90073_2/A2_1/train_1.csv\"\n",
        "file = open(filename)\n",
        "df = pd.read_csv(file,index_col=0)\n",
        "from sklearn.preprocessing import LabelEncoder\n",
        "df['src port'] = df['src port'].astype(str)\n",
        "df['state'] = df['state'].astype(str)\n",
        "df['dst port'] = df['dst port'].astype(str)\n",
        "\n",
        "\n",
        "def dummyEncode(df):\n",
        "        columnsToEncode = list(df.select_dtypes(include=['object']))\n",
        "        le = LabelEncoder()\n",
        "        for feature in columnsToEncode:\n",
        "            try:\n",
        "                df[feature] = le.fit_transform(df[feature])\n",
        "            except:\n",
        "                print('Error encoding '+feature)\n",
        "        return df\n",
        "\n",
        "dummyEncode(df)\n",
        "\n"
      ],
      "execution_count": null,
      "outputs": []
    }
  ]
}