{
  "nbformat": 4,
  "nbformat_minor": 0,
  "metadata": {
    "colab": {
      "name": "NMF.ipynb",
      "provenance": [],
      "authorship_tag": "ABX9TyOQlpYxaovpqt8QSSY9VAGw",
      "include_colab_link": true
    },
    "kernelspec": {
      "name": "python3",
      "display_name": "Python 3"
    }
  },
  "cells": [
    {
      "cell_type": "markdown",
      "metadata": {
        "id": "view-in-github",
        "colab_type": "text"
      },
      "source": [
        "<a href=\"https://colab.research.google.com/github/junaidrasool/SA/blob/main/NMF.ipynb\" target=\"_parent\"><img src=\"https://colab.research.google.com/assets/colab-badge.svg\" alt=\"Open In Colab\"/></a>"
      ]
    },
    {
      "cell_type": "code",
      "metadata": {
        "id": "1-sVsyka5sng"
      },
      "source": [
        "import pandas as pd\n",
        "import operator\n",
        "from sklearn.model_selection import train_test_split\n",
        "import random\n",
        "import numpy as np\n",
        "from sklearn.preprocessing import LabelEncoder\n",
        "from sklearn.preprocessing import StandardScaler\n",
        "from sklearn.decomposition import NMF\n",
        "from sklearn.decomposition import PCA\n",
        "le = LabelEncoder()\n",
        "\n",
        "filename = \"/Users/junaidrasool/Desktop/comp90073_2/A2_1/train1_encoded.csv\"\n",
        "file = open(filename)\n",
        "df = pd.read_csv(file,index_col=0)\n",
        "\n",
        "nmf = NMF(n_components=5, random_state=0)\n",
        "nmf.fit(df)\n",
        "df_nmf = nmf.transform(df)\n",
        "nmf_df = pd.DataFrame(data = df_nmf, columns = ['principal component 1', 'principal component 2','principal component 3', 'principal component 4','principal component 5'])\n",
        "nmf_df\n",
        "nmf_df.to_csv('NMF.csv')"
      ],
      "execution_count": null,
      "outputs": []
    }
  ]
}