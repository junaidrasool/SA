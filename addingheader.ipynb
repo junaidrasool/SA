{
  "nbformat": 4,
  "nbformat_minor": 0,
  "metadata": {
    "colab": {
      "name": "Untitled1.ipynb",
      "provenance": [],
      "authorship_tag": "ABX9TyM6I+Gg5c/EbAKAkWBI5K0l",
      "include_colab_link": true
    },
    "kernelspec": {
      "name": "python3",
      "display_name": "Python 3"
    }
  },
  "cells": [
    {
      "cell_type": "markdown",
      "metadata": {
        "id": "view-in-github",
        "colab_type": "text"
      },
      "source": [
        "<a href=\"https://colab.research.google.com/github/junaidrasool/SA/blob/main/addingheader.ipynb\" target=\"_parent\"><img src=\"https://colab.research.google.com/assets/colab-badge.svg\" alt=\"Open In Colab\"/></a>"
      ]
    },
    {
      "cell_type": "code",
      "metadata": {
        "id": "QfX72U_nWTVP"
      },
      "source": [
        "import pandas as pd\n",
        "import operator\n",
        "from sklearn.model_selection import train_test_split\n",
        "import random\n",
        "\n",
        "\n",
        "filename=\"/Users/junaidrasool/Desktop/comp90073_2/A2_1/training_data.csv\"\n",
        "features.columns =['timestamp', 'duration','protocol','src IP','src port','direction','dst IP','dst port','state','src service','dst service','total pckts','bytes trnsfrd in both','bytes from src to the dst', 'label']\n",
        "features.to_csv('train_1.csv')"
      ],
      "execution_count": null,
      "outputs": []
    }
  ]
}